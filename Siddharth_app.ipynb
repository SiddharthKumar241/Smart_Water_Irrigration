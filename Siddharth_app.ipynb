{
 "cells": [
  {
   "cell_type": "code",
   "execution_count": null,
   "id": "c779aa49",
   "metadata": {
    "vscode": {
     "languageId": "plaintext"
    }
   },
   "outputs": [],
   "source": [
    "{\n",
    " \"cells\": [\n",
    "  {\n",
    "   \"cell_type\": \"code\",\n",
    "   \"execution_count\": null,\n",
    "   \"metadata\": {},\n",
    "   \"outputs\": [],\n",
    "   \"source\": [\n",
    "    \"import streamlit as st\\n\",\n",
    "    \"import numpy as np\\n\",\n",
    "    \"import joblib\\n\",\n",
    "    \"\\n\",\n",
    "    \"model = joblib.load(\\\"Farm_Irrigation_System.pkl\\\")\\n\",\n",
    "    \"\\n\",\n",
    "    \"st.title(\\\"Smart Sprinkler System\\\")\\n\",\n",
    "    \"st.subheader(\\\"Enter scaled sensor values (0 to 1) to predict sprinkler status\\\")\\n\",\n",
    "    \"\\n\",\n",
    "    \"sensor_values = []\\n\",\n",
    "    \"for i in range(20):\\n\",\n",
    "    \"    val = st.slider(f\\\"Sensor {i}\\\", min_value=0.0, max_value=1.0, value=0.5, step=0.01)\\n\",\n",
    "    \"    sensor_values.append(val)\\n\",\n",
    "    \"\\n\",\n",
    "    \"if st.button(\\\"Predict Sprinklers\\\"):\\n\",\n",
    "    \"    input_array = np.array(sensor_values).reshape(1, -1)\\n\",\n",
    "    \"    prediction = model.predict(input_array)[0]\\n\",\n",
    "    \"    st.markdown(\\\"### Prediction:\\\")\\n\",\n",
    "    \"    for i, status in enumerate(prediction):\\n\",\n",
    "    \"        st.write(f\\\"Sprinkler {i} (parcel_{i}): {'ON' if status == 1 else 'OFF'}\\\")\"\n",
    "   ]\n",
    "  }\n",
    " ],\n",
    " \"metadata\": {\n",
    "  \"kernelspec\": {\n",
    "   \"display_name\": \"Python 3\",\n",
    "   \"language\": \"python\",\n",
    "   \"name\": \"python3\"\n",
    "  },\n",
    "  \"language_info\": {\n",
    "   \"codemirror_mode\": {\n",
    "    \"name\": \"ipython\",\n",
    "    \"version\": 3\n",
    "   },\n",
    "   \"file_extension\": \".py\",\n",
    "   \"mimetype\": \"text/x-python\",\n",
    "   \"name\": \"python\",\n",
    "   \"nbconvert_exporter\": \"python\",\n",
    "   \"pygments_lexer\": \"ipython3\",\n",
    "   \"version\": \"3.11.5\"\n",
    "  }\n",
    " },\n",
    " \"nbformat\": 4,\n",
    " \"nbformat_minor\": 5\n",
    "}\n"
   ]
  }
 ],
 "metadata": {
  "language_info": {
   "name": "python"
  }
 },
 "nbformat": 4,
 "nbformat_minor": 5
}
