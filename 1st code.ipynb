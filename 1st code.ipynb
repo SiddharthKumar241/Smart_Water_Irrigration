{
 "cells": [
  {
   "cell_type": "code",
   "execution_count": null,
   "id": "0aad80d9",
   "metadata": {},
   "outputs": [],
   "source": [
    "\n",
    "import os\n",
    "import pandas as pd\n",
    "import matplotlib.pyplot as plt\n",
    "import seaborn as sns\n",
    "from sklearn.model_selection import train_test_split\n",
    "from sklearn.ensemble import RandomForestClassifier\n",
    "from sklearn.multioutput import MultiOutputClassifier\n",
    "from sklearn.metrics import classification_report\n",
    "from sklearn.preprocessing import MinMaxScaler\n",
    "import joblib\n",
    "print(\"Current working directory:\", os.getcwd())\n",
    "csv_path = r\"d:\\Python\\Avi.py\\Internship\\irrigation_machine.csv\"\n",
    "df = pd.read_csv(csv_path)\n",
    "if 'Unnamed: 0' in df.columns:\n",
    "    df = df.drop('Unnamed: 0', axis=1)\n",
    "print(df.info())\n",
    "print(df.describe())\n",
    "plt.figure(figsize=(15, 10))\n",
    "sns.heatmap(df.corr(), cmap='coolwarm', annot=False)\n",
    "plt.title(\"Feature Correlation Heatmap\")\n",
    "plt.show()\n",
    "X = df[[col for col in df.columns if 'sensor' in col]]\n",
    "y = df[[col for col in df.columns if 'parcel' in col]]\n",
    "print(\"X shape:\", X.shape)\n",
    "print(\"y shape:\", y.shape)\n",
    "scaler = MinMaxScaler()\n",
    "X_scaled = scaler.fit_transform(X)\n",
    "X_train, X_test, y_train, y_test = train_test_split(X_scaled, y, test_size=0.2, random_state=42)\n",
    "rf = RandomForestClassifier(n_estimators=100, random_state=42)\n",
    "multi_rf = MultiOutputClassifier(rf)\n",
    "multi_rf.fit(X_train, y_train)\n",
    "y_pred = multi_rf.predict(X_test)\n",
    "print(classification_report(y_test, y_pred, target_names=y.columns))\n",
    "joblib.dump(multi_rf, \"multi_label_rf_model.pkl\")\n",
    "joblib.dump(scaler, \"scaler.pkl\")\n"
   ]
  }
 ],
 "metadata": {
  "language_info": {
   "name": "python"
  }
 },
 "nbformat": 4,
 "nbformat_minor": 5
}
